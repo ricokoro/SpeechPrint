{
 "cells": [
  {
   "cell_type": "code",
   "execution_count": 1,
   "id": "52865b5d-e7dc-49b4-9a7d-34a14f7801af",
   "metadata": {},
   "outputs": [
    {
     "name": "stdout",
     "output_type": "stream",
     "text": [
      "Defaulting to user installation because normal site-packages is not writeable\n",
      "Looking in links: /usr/share/pip-wheels\n",
      "Requirement already satisfied: kagglehub[pandas-datasets] in ./.local/lib/python3.10/site-packages (0.3.9)\n",
      "Requirement already satisfied: packaging in /opt/conda/envs/anaconda-2024.02-py310/lib/python3.10/site-packages (from kagglehub[pandas-datasets]) (23.2)\n",
      "Requirement already satisfied: pyyaml in /opt/conda/envs/anaconda-2024.02-py310/lib/python3.10/site-packages (from kagglehub[pandas-datasets]) (6.0.1)\n",
      "Requirement already satisfied: requests in /opt/conda/envs/anaconda-2024.02-py310/lib/python3.10/site-packages (from kagglehub[pandas-datasets]) (2.31.0)\n",
      "Requirement already satisfied: tqdm in /opt/conda/envs/anaconda-2024.02-py310/lib/python3.10/site-packages (from kagglehub[pandas-datasets]) (4.65.0)\n",
      "Requirement already satisfied: pandas in /opt/conda/envs/anaconda-2024.02-py310/lib/python3.10/site-packages (from kagglehub[pandas-datasets]) (2.1.4)\n",
      "Requirement already satisfied: numpy<2,>=1.22.4 in /opt/conda/envs/anaconda-2024.02-py310/lib/python3.10/site-packages (from pandas->kagglehub[pandas-datasets]) (1.26.4)\n",
      "Requirement already satisfied: python-dateutil>=2.8.2 in /opt/conda/envs/anaconda-2024.02-py310/lib/python3.10/site-packages (from pandas->kagglehub[pandas-datasets]) (2.8.2)\n",
      "Requirement already satisfied: pytz>=2020.1 in /opt/conda/envs/anaconda-2024.02-py310/lib/python3.10/site-packages (from pandas->kagglehub[pandas-datasets]) (2023.3.post1)\n",
      "Requirement already satisfied: tzdata>=2022.1 in /opt/conda/envs/anaconda-2024.02-py310/lib/python3.10/site-packages (from pandas->kagglehub[pandas-datasets]) (2023.3)\n",
      "Requirement already satisfied: charset-normalizer<4,>=2 in /opt/conda/envs/anaconda-2024.02-py310/lib/python3.10/site-packages (from requests->kagglehub[pandas-datasets]) (2.0.4)\n",
      "Requirement already satisfied: idna<4,>=2.5 in /opt/conda/envs/anaconda-2024.02-py310/lib/python3.10/site-packages (from requests->kagglehub[pandas-datasets]) (3.4)\n",
      "Requirement already satisfied: urllib3<3,>=1.21.1 in /opt/conda/envs/anaconda-2024.02-py310/lib/python3.10/site-packages (from requests->kagglehub[pandas-datasets]) (2.0.7)\n",
      "Requirement already satisfied: certifi>=2017.4.17 in /opt/conda/envs/anaconda-2024.02-py310/lib/python3.10/site-packages (from requests->kagglehub[pandas-datasets]) (2024.2.2)\n",
      "Requirement already satisfied: six>=1.5 in /opt/conda/envs/anaconda-2024.02-py310/lib/python3.10/site-packages (from python-dateutil>=2.8.2->pandas->kagglehub[pandas-datasets]) (1.16.0)\n"
     ]
    }
   ],
   "source": [
    "!pip install kagglehub[pandas-datasets]"
   ]
  },
  {
   "cell_type": "code",
   "execution_count": 3,
   "id": "16878877-1940-4a8b-82a6-3d8993ea32dc",
   "metadata": {},
   "outputs": [
    {
     "name": "stdout",
     "output_type": "stream",
     "text": [
      "Downloading from https://www.kaggle.com/api/v1/datasets/download/rtatman/speech-accent-archive?dataset_version_number=2...\n"
     ]
    },
    {
     "name": "stderr",
     "output_type": "stream",
     "text": [
      "100%|██████████| 865M/865M [00:08<00:00, 102MB/s]  "
     ]
    },
    {
     "name": "stdout",
     "output_type": "stream",
     "text": [
      "Extracting files...\n"
     ]
    },
    {
     "name": "stderr",
     "output_type": "stream",
     "text": [
      "\n"
     ]
    },
    {
     "name": "stdout",
     "output_type": "stream",
     "text": [
      "Path to dataset files: /home/e45ca020-d85c-4550-acd9-08400b2bd19d/.cache/kagglehub/datasets/rtatman/speech-accent-archive/versions/2\n"
     ]
    }
   ],
   "source": [
    "import kagglehub\n",
    "\n",
    "# Download latest version\n",
    "path = kagglehub.dataset_download(\"rtatman/speech-accent-archive\")\n",
    "\n",
    "print(\"Path to dataset files:\", path)"
   ]
  },
  {
   "cell_type": "code",
   "execution_count": 15,
   "id": "0cc6423b-6ee8-484d-b42d-7d2b82df9674",
   "metadata": {},
   "outputs": [
    {
     "name": "stdout",
     "output_type": "stream",
     "text": [
      "Files in the directory:\n",
      "['speakers_all.csv', 'reading-passage.txt', 'recordings']\n"
     ]
    }
   ],
   "source": [
    "import os\n",
    "import pandas as pd\n",
    "\n",
    "# The file path you provided\n",
    "file_path = \"/home/e45ca020-d85c-4550-acd9-08400b2bd19d/.cache/kagglehub/datasets/rtatman/speech-accent-archive/versions/2\"\n",
    "\n",
    "# List all files in the directory\n",
    "files = os.listdir(file_path)\n",
    "print(\"Files in the directory:\")\n",
    "print(files)"
   ]
  },
  {
   "cell_type": "code",
   "execution_count": 43,
   "id": "ac57fb94-db59-47b1-a24c-4b893964ae5f",
   "metadata": {},
   "outputs": [
    {
     "name": "stdout",
     "output_type": "stream",
     "text": [
      "     age  age_onset              birthplace  filename native_language     sex  \\\n",
      "0   24.0       12.0         koussi, senegal   balanta         balanta    male   \n",
      "1   18.0       10.0          buea, cameroon  cameroon        cameroon    male   \n",
      "2   48.0        8.0  hong, adamawa, nigeria  fulfulde        fulfulde    male   \n",
      "3   42.0       42.0   port-au-prince, haiti   haitian         haitian    male   \n",
      "4   40.0       35.0   port-au-prince, haiti   haitian         haitian    male   \n",
      "..   ...        ...                     ...       ...             ...     ...   \n",
      "95  24.0        9.0             doha, qatar   arabic3          arabic    male   \n",
      "96  19.0        8.0    riyadh, saudi arabia  arabic30          arabic  female   \n",
      "97  47.0       12.0           baghdad, iraq  arabic31          arabic  female   \n",
      "98  42.0       12.0           baghdad, iraq  arabic32          arabic    male   \n",
      "99  28.0       11.0           baghdad, iraq  arabic33          arabic  female   \n",
      "\n",
      "    speakerid       country  file_missing?  Unnamed: 9  Unnamed: 10  \\\n",
      "0         788       senegal           True         NaN          NaN   \n",
      "1        1953      cameroon           True         NaN          NaN   \n",
      "2        1037       nigeria           True         NaN          NaN   \n",
      "3        1165         haiti           True         NaN          NaN   \n",
      "4        1166         haiti           True         NaN          NaN   \n",
      "..        ...           ...            ...         ...          ...   \n",
      "95         17         qatar          False         NaN          NaN   \n",
      "96       1133  saudi arabia          False         NaN          NaN   \n",
      "97       1181          iraq          False         NaN          NaN   \n",
      "98       1203          iraq          False         NaN          NaN   \n",
      "99       1204          iraq          False         NaN          NaN   \n",
      "\n",
      "   Unnamed: 11  \n",
      "0          NaN  \n",
      "1          NaN  \n",
      "2          NaN  \n",
      "3          NaN  \n",
      "4          NaN  \n",
      "..         ...  \n",
      "95         NaN  \n",
      "96         NaN  \n",
      "97         NaN  \n",
      "98         NaN  \n",
      "99         NaN  \n",
      "\n",
      "[100 rows x 12 columns]\n"
     ]
    }
   ],
   "source": [
    "# Load the CSV file\n",
    "data = pd.read_csv(f'{file_path}/speakers_all.csv')\n",
    "\n",
    "# Display the first few rows\n",
    "print(data.head(100))"
   ]
  },
  {
   "cell_type": "code",
   "execution_count": 37,
   "id": "b92c72bd-eed4-4045-984d-a970a1f38d8e",
   "metadata": {},
   "outputs": [
    {
     "name": "stdout",
     "output_type": "stream",
     "text": [
      "['english505.mp3', 'dutch43.mp3', 'english301.mp3', 'english142.mp3', 'french27.mp3', 'spanish109.mp3', 'korean15.mp3', 'dutch6.mp3', 'latvian3.mp3', 'french39.mp3']\n"
     ]
    }
   ],
   "source": [
    "import os\n",
    "\n",
    "# List the files in the extracted directory\n",
    "audio_files = os.listdir(f'{file_path}/recordings/recordings')\n",
    "print(audio_files[:10])  # Show the first 10 files to get a sense\n"
   ]
  },
  {
   "cell_type": "code",
   "execution_count": 41,
   "id": "698a6a8f-425d-4f1f-b120-a1017b14c3be",
   "metadata": {},
   "outputs": [
    {
     "name": "stdout",
     "output_type": "stream",
     "text": [
      "Please call Stella.  Ask her to bring these things with her from the store:  Six spoons of fresh snow peas, five thick slabs of blue cheese, and maybe a snack for her brother Bob.  We also need a small plastic snake and a big toy frog for the kids.  She can scoop these things into three red bags, and we will go meet her Wednesday at the train station.\n",
      "\n"
     ]
    }
   ],
   "source": [
    "with open(f'{file_path}/reading-passage.txt', 'r') as file:\n",
    "    passage = file.read()\n",
    "    print(passage)"
   ]
  },
  {
   "cell_type": "code",
   "execution_count": 47,
   "id": "ca53a510-0fa2-4e83-b0e4-c2722c917627",
   "metadata": {},
   "outputs": [
    {
     "name": "stdout",
     "output_type": "stream",
     "text": [
      "Initialized empty Git repository in /home/e45ca020-d85c-4550-acd9-08400b2bd19d/.git/\n"
     ]
    }
   ],
   "source": [
    "!git init\n",
    "!git config --global user.name \"Richard Okoro\"\n",
    "!git config --global user.email \"richardokoro12@gmail.com\"\n",
    "!git add SpeechPrint.ipynb"
   ]
  },
  {
   "cell_type": "code",
   "execution_count": 49,
   "id": "094f0aab-fa8c-4247-9664-7eaf9e131883",
   "metadata": {},
   "outputs": [
    {
     "name": "stdout",
     "output_type": "stream",
     "text": [
      "[master (root-commit) a8ca333] Initial commit with Jupyter notebook\n",
      " 1 file changed, 250 insertions(+)\n",
      " create mode 100644 SpeechPrint.ipynb\n"
     ]
    }
   ],
   "source": [
    "!git commit -m \"Initial commit with Jupyter notebook\""
   ]
  },
  {
   "cell_type": "code",
   "execution_count": 56,
   "id": "8d431c87-7b3f-4d42-963b-2db9346a9f47",
   "metadata": {},
   "outputs": [
    {
     "name": "stdout",
     "output_type": "stream",
     "text": [
      "fatal: remote origin already exists.\n",
      "fatal: The current branch master has no upstream branch.\n",
      "To push the current branch and set the remote as upstream, use\n",
      "\n",
      "    git push --set-upstream origin master\n",
      "\n"
     ]
    }
   ],
   "source": [
    "!git remote add origin https://github.com/ricokoro/SpeechPrint.git\n",
    "!git push"
   ]
  },
  {
   "cell_type": "raw",
   "id": "40b85442-4af2-4284-8748-289e5ca4c701",
   "metadata": {},
   "source": [
    "!git status"
   ]
  },
  {
   "cell_type": "code",
   "execution_count": null,
   "id": "c8ca31d0-87c7-46ae-a250-b7cd0ddfae77",
   "metadata": {},
   "outputs": [],
   "source": []
  }
 ],
 "metadata": {
  "kernelspec": {
   "display_name": "anaconda-2024.02-py310",
   "language": "python",
   "name": "conda-env-anaconda-2024.02-py310-py"
  },
  "language_info": {
   "codemirror_mode": {
    "name": "ipython",
    "version": 3
   },
   "file_extension": ".py",
   "mimetype": "text/x-python",
   "name": "python",
   "nbconvert_exporter": "python",
   "pygments_lexer": "ipython3",
   "version": "3.10.14"
  }
 },
 "nbformat": 4,
 "nbformat_minor": 5
}
